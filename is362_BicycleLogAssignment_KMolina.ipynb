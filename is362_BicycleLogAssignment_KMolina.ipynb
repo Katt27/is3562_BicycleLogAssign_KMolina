{
 "cells": [
  {
   "cell_type": "markdown",
   "id": "40f07a5c-3067-4107-99d5-3349b9fb1c46",
   "metadata": {},
   "source": [
    "# Bicycle Ride Log: New York City to Key West\n",
    "\n",
    "## Problem Statement\n",
    "Suppose you have ridden a bicycle from New York City to Key West, Florida. Each day, you've logged the total cumulative miles on your odometer at the end of the day. For example, your first two entries might be 55 and 120, indicating that you rode 55 miles on day 1 and 65 miles on day 2. \n",
    "\n",
    "The task is to create a **Pandas Series** object that holds the cumulative miles at the end of each day, and then compute the actual number of miles ridden each day by calculating the difference between consecutive entries.\n",
    "\n",
    "## Steps Taken to Solve the Problem\n",
    "\n",
    "### 1. Creating a Pandas Series for Cumulative Miles\n",
    "I first created a Pandas Series object to hold the cumulative miles recorded at the end of each day. Each entry in the Series represents the odometer reading at the end of that particular day.\n",
    "\n",
    "For example, I used the following data to represent the cumulative miles for 6 days:\n",
    "```python\n",
    "cumulative_miles = pd.Series([55, 120, 180, 250, 320, 400])\n"
   ]
  },
  {
   "cell_type": "code",
   "execution_count": 12,
   "id": "82ddefac-d3fb-4c85-9f48-bfb1a6b9cf26",
   "metadata": {},
   "outputs": [
    {
     "name": "stdout",
     "output_type": "stream",
     "text": [
      "   Cumulative Miles  Daily Miles\n",
      "0                55         55.0\n",
      "1               120         65.0\n",
      "2               180         60.0\n",
      "3               250         70.0\n",
      "4               320         70.0\n",
      "5               400         80.0\n"
     ]
    }
   ],
   "source": [
    "import pandas as pd\n",
    "\n",
    "# Step 1: Create a Pandas Series object for cumulative miles at the end of each day\n",
    "cumulative_miles = pd.Series([55, 120, 180, 250, 320, 400])\n",
    "\n",
    "# Step 2: Calculate the miles ridden each day by finding the difference between consecutive cumulative miles\n",
    "daily_miles = cumulative_miles.diff().fillna(cumulative_miles[0])\n",
    "\n",
    "# Step 3: Present the information in a DataFrame for clear visualization\n",
    "ride_log = pd.DataFrame({\n",
    "    'Cumulative Miles': cumulative_miles,\n",
    "    'Daily Miles': daily_miles\n",
    "})\n",
    "\n",
    "# Display the result\n",
    "print(ride_log)  # or alternatively, if you are using a Jupyter notebook, you can use display(ride_log) if IPython is available.\n"
   ]
  },
  {
   "cell_type": "markdown",
   "id": "15c53094-5d29-495e-966f-21291bdd203d",
   "metadata": {},
   "source": [
    "## Conclusion\n",
    "\n",
    "In this assignment, I used Python and the Pandas library to effectively calculate the total miles ridden each day during a bicycle trip from New York City to Key West, based on cumulative odometer readings. By leveraging the `.diff()` function, I computed the differences between consecutive days' cumulative miles to determine the exact distance traveled on each day. The results were presented in a clear and structured DataFrame for easy interpretation.\n",
    "\n",
    "This exercise helped reinforce important concepts such as working with Pandas Series and DataFrames, calculating differences between values, and displaying the data in a meaningful way. Additionally, the use of a Jupyter notebook allowed for an organized presentation of the problem and the solution, making it easy to follow the workflow from raw data to final output.\n",
    "\n",
    "In summary, I successfully solved the problem by:\n",
    "\n",
    "- Creating a Pandas Series for cumulative miles.\n",
    "- Computing daily miles using the `.diff()` function.\n",
    "- Presenting both cumulative and daily miles in a DataFrame format.\n",
    "\n",
    "This method can be applied to similar data analysis problems where calculating differences between consecutive values is needed, further demonstrating the power and flexibility of Python's data manipulation libraries."
   ]
  },
  {
   "cell_type": "markdown",
   "id": "4f3ac586-f007-443c-ac2a-d3b77e2dafd7",
   "metadata": {},
   "source": [
    "## REFERENCES\n",
    "\n",
    "[Python, R. (2023, June 26). Using pandas and Python to Explore Your Dataset.](https://realpython.com/pandas-python-explore-dataset/)\n",
    "\n",
    "[pandas documentation — pandas 2.2.2 documentation. (n.d.).](https://pandas.pydata.org/docs/)\n"
   ]
  }
 ],
 "metadata": {
  "kernelspec": {
   "display_name": "Python 3 (ipykernel)",
   "language": "python",
   "name": "python3"
  },
  "language_info": {
   "codemirror_mode": {
    "name": "ipython",
    "version": 3
   },
   "file_extension": ".py",
   "mimetype": "text/x-python",
   "name": "python",
   "nbconvert_exporter": "python",
   "pygments_lexer": "ipython3",
   "version": "3.12.4"
  }
 },
 "nbformat": 4,
 "nbformat_minor": 5
}
